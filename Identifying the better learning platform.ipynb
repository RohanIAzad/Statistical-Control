{
 "cells": [
  {
   "cell_type": "markdown",
   "metadata": {},
   "source": [
    "Importing packages"
   ]
  },
  {
   "cell_type": "code",
   "execution_count": 1,
   "metadata": {},
   "outputs": [],
   "source": [
    "import pyodbc\n",
    "import pandas as pd\n",
    "import datetime\n",
    "from google.cloud import bigquery\n",
    "import time\n",
    "import math\n",
    "from sqlalchemy.engine import create_engine"
   ]
  },
  {
   "cell_type": "markdown",
   "metadata": {},
   "source": [
    "Importing data from big query using google SDK\n",
    "\n",
    "## `Description of the problem.`"
   ]
  },
  {
   "cell_type": "markdown",
   "metadata": {},
   "source": [
    "#### Previously, students accessed the materials for a particular course through a third-party learning platform, which incurred costs for the company every time a student logged in. To mitigate these costs, the company developed an in-house learning paltform called `ODYSSEY` where students can now access their materials directly.\n",
    "\n",
    "#### An A/B test was conducted to compare the performance of the old system with the new in-house platform. The test group consisted of 279 students from a specific section of an instructor. The goal was to identify a comparable  group of studnets from the remaining sections of the same instructor.\n",
    "\n",
    "#### Since the test group was predetermined, statistical control was implemented to determine the effectiveness of `ODYSSEY` instead of finding a separate comparable control group."
   ]
  },
  {
   "cell_type": "code",
   "execution_count": 2,
   "metadata": {},
   "outputs": [
    {
     "name": "stderr",
     "output_type": "stream",
     "text": [
      "C:\\Users\\Rohan.Azad\\AppData\\Roaming\\Python\\Python39\\site-packages\\google\\auth\\_default.py:76: UserWarning: Your application has authenticated using end user credentials from Google Cloud SDK without a quota project. You might receive a \"quota exceeded\" or \"API not enabled\" error. See the following page for troubleshooting: https://cloud.google.com/docs/authentication/adc-troubleshooting/user-creds. \n",
      "  warnings.warn(_CLOUD_SDK_CREDENTIALS_WARNING)\n"
     ]
    },
    {
     "name": "stdout",
     "output_type": "stream",
     "text": [
      "CPU times: total: 109 ms\n",
      "Wall time: 4.49 s\n"
     ]
    },
    {
     "data": {
      "text/html": [
       "<div>\n",
       "<style scoped>\n",
       "    .dataframe tbody tr th:only-of-type {\n",
       "        vertical-align: middle;\n",
       "    }\n",
       "\n",
       "    .dataframe tbody tr th {\n",
       "        vertical-align: top;\n",
       "    }\n",
       "\n",
       "    .dataframe thead th {\n",
       "        text-align: right;\n",
       "    }\n",
       "</style>\n",
       "<table border=\"1\" class=\"dataframe\">\n",
       "  <thead>\n",
       "    <tr style=\"text-align: right;\">\n",
       "      <th></th>\n",
       "      <th>term_code</th>\n",
       "      <th>odyssey_flag</th>\n",
       "      <th>aic_clscnt</th>\n",
       "      <th>credit_earned_count</th>\n",
       "      <th>average_week3_priority_score</th>\n",
       "    </tr>\n",
       "  </thead>\n",
       "  <tbody>\n",
       "    <tr>\n",
       "      <th>0</th>\n",
       "      <td>1244</td>\n",
       "      <td>0</td>\n",
       "      <td>1</td>\n",
       "      <td>0</td>\n",
       "      <td>0.420164</td>\n",
       "    </tr>\n",
       "    <tr>\n",
       "      <th>1</th>\n",
       "      <td>1244</td>\n",
       "      <td>0</td>\n",
       "      <td>3</td>\n",
       "      <td>0</td>\n",
       "      <td>0.479619</td>\n",
       "    </tr>\n",
       "    <tr>\n",
       "      <th>2</th>\n",
       "      <td>1244</td>\n",
       "      <td>1</td>\n",
       "      <td>3</td>\n",
       "      <td>1</td>\n",
       "      <td>0.806987</td>\n",
       "    </tr>\n",
       "    <tr>\n",
       "      <th>3</th>\n",
       "      <td>1244</td>\n",
       "      <td>1</td>\n",
       "      <td>1</td>\n",
       "      <td>1</td>\n",
       "      <td>0.757513</td>\n",
       "    </tr>\n",
       "    <tr>\n",
       "      <th>4</th>\n",
       "      <td>1244</td>\n",
       "      <td>1</td>\n",
       "      <td>2</td>\n",
       "      <td>1</td>\n",
       "      <td>0.765596</td>\n",
       "    </tr>\n",
       "    <tr>\n",
       "      <th>5</th>\n",
       "      <td>1244</td>\n",
       "      <td>0</td>\n",
       "      <td>3</td>\n",
       "      <td>1</td>\n",
       "      <td>0.784647</td>\n",
       "    </tr>\n",
       "    <tr>\n",
       "      <th>6</th>\n",
       "      <td>1244</td>\n",
       "      <td>0</td>\n",
       "      <td>2</td>\n",
       "      <td>0</td>\n",
       "      <td>0.543877</td>\n",
       "    </tr>\n",
       "    <tr>\n",
       "      <th>7</th>\n",
       "      <td>1244</td>\n",
       "      <td>1</td>\n",
       "      <td>1</td>\n",
       "      <td>0</td>\n",
       "      <td>0.599533</td>\n",
       "    </tr>\n",
       "    <tr>\n",
       "      <th>8</th>\n",
       "      <td>1244</td>\n",
       "      <td>1</td>\n",
       "      <td>2</td>\n",
       "      <td>0</td>\n",
       "      <td>0.583517</td>\n",
       "    </tr>\n",
       "    <tr>\n",
       "      <th>9</th>\n",
       "      <td>1244</td>\n",
       "      <td>0</td>\n",
       "      <td>4</td>\n",
       "      <td>1</td>\n",
       "      <td>0.427771</td>\n",
       "    </tr>\n",
       "    <tr>\n",
       "      <th>10</th>\n",
       "      <td>1244</td>\n",
       "      <td>0</td>\n",
       "      <td>1</td>\n",
       "      <td>1</td>\n",
       "      <td>0.683473</td>\n",
       "    </tr>\n",
       "    <tr>\n",
       "      <th>11</th>\n",
       "      <td>1244</td>\n",
       "      <td>0</td>\n",
       "      <td>2</td>\n",
       "      <td>1</td>\n",
       "      <td>0.757509</td>\n",
       "    </tr>\n",
       "  </tbody>\n",
       "</table>\n",
       "</div>"
      ],
      "text/plain": [
       "   term_code  odyssey_flag  aic_clscnt  credit_earned_count  \\\n",
       "0       1244             0           1                    0   \n",
       "1       1244             0           3                    0   \n",
       "2       1244             1           3                    1   \n",
       "3       1244             1           1                    1   \n",
       "4       1244             1           2                    1   \n",
       "5       1244             0           3                    1   \n",
       "6       1244             0           2                    0   \n",
       "7       1244             1           1                    0   \n",
       "8       1244             1           2                    0   \n",
       "9       1244             0           4                    1   \n",
       "10      1244             0           1                    1   \n",
       "11      1244             0           2                    1   \n",
       "\n",
       "    average_week3_priority_score  \n",
       "0                       0.420164  \n",
       "1                       0.479619  \n",
       "2                       0.806987  \n",
       "3                       0.757513  \n",
       "4                       0.765596  \n",
       "5                       0.784647  \n",
       "6                       0.543877  \n",
       "7                       0.599533  \n",
       "8                       0.583517  \n",
       "9                       0.427771  \n",
       "10                      0.683473  \n",
       "11                      0.757509  "
      ]
     },
     "execution_count": 2,
     "metadata": {},
     "output_type": "execute_result"
    }
   ],
   "source": [
    "%%time\n",
    "\n",
    "# Read in earned credits data from BigQuery tables\n",
    "\n",
    "bigquery_client = bigquery.Client(project='sei-mdp-datascience-sbx-4d50')\n",
    "\n",
    "odyssey_statictical_control_cs_query = \"\"\"\n",
    "\n",
    "-- actual table names have been ommited and replaced with dummy table names for privacy reasons.\n",
    "\n",
    "WITH starting_table AS(\n",
    "    SELECT substr(sc.full_class_id,1,9) AS class_id_section, CONCAT(substr(sc.full_class_id,1,9),' ',sc.class_number) AS class_id_section_number,sc.emplid, sc.term_code, sc.class_id, sc.full_class_id, st.enrolled_aic_count AS aic_clscnt,\n",
    "            CASE WHEN CONCAT(substr(sc.full_class_id,1,9),' ',sc.class_number) IN ('ENG116005 2029', 'ENG116047 2830', 'ENG116001 2025', 'ENG116046 2829', 'ENG116016 2374', 'ENG116009 2033', 'ENG116004 2028', 'ENG116002 2026') AND primary_instructor_name = 'Gureghian, Sahag' THEN 1 \n",
    "            WHEN primary_instructor_name = 'Gureghian, Sahag' AND CONCAT(substr(sc.full_class_id,1,9),' ',sc.class_number) NOT IN ('ENG116005 2029', 'ENG116047 2830', 'ENG116001 2025', 'ENG116046 2829', 'ENG116016 2374', 'ENG116009 2033', 'ENG116004 2028', 'ENG116002 2026') THEN 0 END odyssey_flag,\n",
    "        \n",
    "            credit_earned_count\n",
    "    FROM `table 1` sc\n",
    "    INNER JOIN `table 2` st ON st.emplid = sc.emplid AND st.term_code = sc.term_code \n",
    "    INNER JOIN `table 3` dc On dc.full_class_id = sc.full_class_id\n",
    "    WHERE --sc.class_id = 'ENG116' AND \n",
    "    sc.enrolled_aic_count > 0  AND sc.term_code = '1244' AND primary_instructor_name = 'Gureghian, Sahag' AND sc.class_id = 'ENG116'\n",
    ")  --SELECT * FROM starting_table ORDER BY emplid, term_code, full_class_id\n",
    " --SELECT odyssey_flag, COUNT(*) FROM starting_table GROUP BY odyssey_flag\n",
    "\n",
    ", priority_score_t AS(\n",
    "  SELECT emplid, term_code, class_id, full_class_id, prediction_timestamp, prediction_week_number, score_for_api\n",
    "  FROM `table 3`\n",
    "  WHERE --term_code = '1244' AND class_id = 'ENG116' AND \n",
    "  prediction_week_number = 3\n",
    "  QUALIFY ROW_NUMBER() OVER(PARTITION BY emplid, full_class_id ORDER BY prediction_timestamp DESC) =1\n",
    ") \n",
    "\n",
    ", priority_score_merge AS(\n",
    "  SELECT st.*, pst.score_for_api\n",
    "  FROM starting_table st\n",
    "  LEFT JOIN priority_score_t pst ON pst.emplid = st.emplid AND pst.full_class_id = st.full_class_id\n",
    ")  --SELECT * FROM priority_score_merge \n",
    "\n",
    ", priority_score_aggregated AS(\n",
    "  SELECT term_code,odyssey_flag, aic_clscnt, credit_earned_count, AVG(score_for_api) AS average_week3_priority_score\n",
    "  FROM priority_score_merge\n",
    "  GROUP BY term_code, odyssey_flag,aic_clscnt, credit_earned_count\n",
    ") SELECT * FROM priority_score_aggregated ORDER BY term_code\n",
    "\n",
    "\"\"\"\n",
    "\n",
    "query_job = bigquery_client.query(odyssey_statictical_control_cs_query)\n",
    "odyssey_statictical_control_cs = query_job.to_dataframe()\n",
    "odyssey_statictical_control_cs.columns = [x.lower() for x in odyssey_statictical_control_cs.columns]\n",
    "odyssey_statictical_control_cs"
   ]
  },
  {
   "cell_type": "markdown",
   "metadata": {},
   "source": [
    "## `Description of the dataset`."
   ]
  },
  {
   "cell_type": "markdown",
   "metadata": {},
   "source": [
    "### `term_code`: the quarter in each the event happend.\n",
    "### `odyssey_flag`: Whether the student is part of the new in-house learning platform or not. \n",
    "### `aic_clscnt`: How many courses they are enrolled in that quarter.\n",
    "### `average_week3_priority_score`: average predictive model score indicating the probablity of passing the course for that quarter.\n",
    "### `credit_earned_count`: Target variable. 1 indictaes pass and 0 indicates fail at the end of teh quarter for that course."
   ]
  },
  {
   "cell_type": "markdown",
   "metadata": {},
   "source": [
    "## `Data Processing steps`"
   ]
  },
  {
   "cell_type": "markdown",
   "metadata": {},
   "source": [
    "Check for the data types of columns. The ones that are \"object\" will need to be converted to dummy variables."
   ]
  },
  {
   "cell_type": "code",
   "execution_count": 3,
   "metadata": {},
   "outputs": [
    {
     "name": "stdout",
     "output_type": "stream",
     "text": [
      "<class 'pandas.core.frame.DataFrame'>\n",
      "RangeIndex: 12 entries, 0 to 11\n",
      "Data columns (total 5 columns):\n",
      " #   Column                        Non-Null Count  Dtype  \n",
      "---  ------                        --------------  -----  \n",
      " 0   term_code                     12 non-null     object \n",
      " 1   odyssey_flag                  12 non-null     Int64  \n",
      " 2   aic_clscnt                    12 non-null     Int64  \n",
      " 3   credit_earned_count           12 non-null     Int64  \n",
      " 4   average_week3_priority_score  12 non-null     float64\n",
      "dtypes: Int64(3), float64(1), object(1)\n",
      "memory usage: 644.0+ bytes\n"
     ]
    }
   ],
   "source": [
    "odyssey_statictical_control_cs.info()"
   ]
  },
  {
   "cell_type": "markdown",
   "metadata": {},
   "source": [
    "term_code is \"object\" type. Changing the \"object\" type to \"category\"."
   ]
  },
  {
   "cell_type": "code",
   "execution_count": 4,
   "metadata": {},
   "outputs": [
    {
     "name": "stdout",
     "output_type": "stream",
     "text": [
      "<class 'pandas.core.frame.DataFrame'>\n",
      "RangeIndex: 12 entries, 0 to 11\n",
      "Data columns (total 5 columns):\n",
      " #   Column                        Non-Null Count  Dtype   \n",
      "---  ------                        --------------  -----   \n",
      " 0   term_code                     12 non-null     category\n",
      " 1   odyssey_flag                  12 non-null     Int64   \n",
      " 2   aic_clscnt                    12 non-null     Int64   \n",
      " 3   credit_earned_count           12 non-null     Int64   \n",
      " 4   average_week3_priority_score  12 non-null     float64 \n",
      "dtypes: Int64(3), category(1), float64(1)\n",
      "memory usage: 676.0 bytes\n"
     ]
    }
   ],
   "source": [
    "odyssey_statictical_control_cs['term_code'] = odyssey_statictical_control_cs['term_code'].astype('category')\n",
    "odyssey_statictical_control_cs.info()"
   ]
  },
  {
   "cell_type": "code",
   "execution_count": 5,
   "metadata": {},
   "outputs": [],
   "source": [
    "one_hot_encoded = pd.get_dummies(odyssey_statictical_control_cs[['term_code']])"
   ]
  },
  {
   "cell_type": "markdown",
   "metadata": {},
   "source": [
    "changing the one_hot_encoded data type to int."
   ]
  },
  {
   "cell_type": "code",
   "execution_count": 6,
   "metadata": {},
   "outputs": [],
   "source": [
    "one_hot_encoded = one_hot_encoded.astype(int)"
   ]
  },
  {
   "cell_type": "markdown",
   "metadata": {},
   "source": [
    "drop the term-code column since that was the category column and join the one_hot_encoded columns to the dataframe."
   ]
  },
  {
   "cell_type": "code",
   "execution_count": 7,
   "metadata": {},
   "outputs": [],
   "source": [
    "odyssey_statictical_control_cs_encoded=pd.concat([odyssey_statictical_control_cs.drop(['term_code'], axis =1), one_hot_encoded], axis =1)"
   ]
  },
  {
   "cell_type": "markdown",
   "metadata": {},
   "source": [
    "## `Model Implementation Steps`"
   ]
  },
  {
   "cell_type": "code",
   "execution_count": 8,
   "metadata": {},
   "outputs": [
    {
     "data": {
      "text/html": [
       "<div>\n",
       "<style scoped>\n",
       "    .dataframe tbody tr th:only-of-type {\n",
       "        vertical-align: middle;\n",
       "    }\n",
       "\n",
       "    .dataframe tbody tr th {\n",
       "        vertical-align: top;\n",
       "    }\n",
       "\n",
       "    .dataframe thead th {\n",
       "        text-align: right;\n",
       "    }\n",
       "</style>\n",
       "<table border=\"1\" class=\"dataframe\">\n",
       "  <thead>\n",
       "    <tr style=\"text-align: right;\">\n",
       "      <th></th>\n",
       "      <th>odyssey_flag</th>\n",
       "      <th>aic_clscnt</th>\n",
       "      <th>credit_earned_count</th>\n",
       "      <th>average_week3_priority_score</th>\n",
       "      <th>term_code_1244</th>\n",
       "    </tr>\n",
       "  </thead>\n",
       "  <tbody>\n",
       "    <tr>\n",
       "      <th>0</th>\n",
       "      <td>0</td>\n",
       "      <td>1</td>\n",
       "      <td>0</td>\n",
       "      <td>0.420164</td>\n",
       "      <td>1</td>\n",
       "    </tr>\n",
       "    <tr>\n",
       "      <th>1</th>\n",
       "      <td>0</td>\n",
       "      <td>3</td>\n",
       "      <td>0</td>\n",
       "      <td>0.479619</td>\n",
       "      <td>1</td>\n",
       "    </tr>\n",
       "    <tr>\n",
       "      <th>2</th>\n",
       "      <td>1</td>\n",
       "      <td>3</td>\n",
       "      <td>1</td>\n",
       "      <td>0.806987</td>\n",
       "      <td>1</td>\n",
       "    </tr>\n",
       "    <tr>\n",
       "      <th>3</th>\n",
       "      <td>1</td>\n",
       "      <td>1</td>\n",
       "      <td>1</td>\n",
       "      <td>0.757513</td>\n",
       "      <td>1</td>\n",
       "    </tr>\n",
       "    <tr>\n",
       "      <th>4</th>\n",
       "      <td>1</td>\n",
       "      <td>2</td>\n",
       "      <td>1</td>\n",
       "      <td>0.765596</td>\n",
       "      <td>1</td>\n",
       "    </tr>\n",
       "    <tr>\n",
       "      <th>5</th>\n",
       "      <td>0</td>\n",
       "      <td>3</td>\n",
       "      <td>1</td>\n",
       "      <td>0.784647</td>\n",
       "      <td>1</td>\n",
       "    </tr>\n",
       "    <tr>\n",
       "      <th>6</th>\n",
       "      <td>0</td>\n",
       "      <td>2</td>\n",
       "      <td>0</td>\n",
       "      <td>0.543877</td>\n",
       "      <td>1</td>\n",
       "    </tr>\n",
       "    <tr>\n",
       "      <th>7</th>\n",
       "      <td>1</td>\n",
       "      <td>1</td>\n",
       "      <td>0</td>\n",
       "      <td>0.599533</td>\n",
       "      <td>1</td>\n",
       "    </tr>\n",
       "    <tr>\n",
       "      <th>8</th>\n",
       "      <td>1</td>\n",
       "      <td>2</td>\n",
       "      <td>0</td>\n",
       "      <td>0.583517</td>\n",
       "      <td>1</td>\n",
       "    </tr>\n",
       "    <tr>\n",
       "      <th>9</th>\n",
       "      <td>0</td>\n",
       "      <td>4</td>\n",
       "      <td>1</td>\n",
       "      <td>0.427771</td>\n",
       "      <td>1</td>\n",
       "    </tr>\n",
       "    <tr>\n",
       "      <th>10</th>\n",
       "      <td>0</td>\n",
       "      <td>1</td>\n",
       "      <td>1</td>\n",
       "      <td>0.683473</td>\n",
       "      <td>1</td>\n",
       "    </tr>\n",
       "    <tr>\n",
       "      <th>11</th>\n",
       "      <td>0</td>\n",
       "      <td>2</td>\n",
       "      <td>1</td>\n",
       "      <td>0.757509</td>\n",
       "      <td>1</td>\n",
       "    </tr>\n",
       "  </tbody>\n",
       "</table>\n",
       "</div>"
      ],
      "text/plain": [
       "    odyssey_flag  aic_clscnt  credit_earned_count  \\\n",
       "0              0           1                    0   \n",
       "1              0           3                    0   \n",
       "2              1           3                    1   \n",
       "3              1           1                    1   \n",
       "4              1           2                    1   \n",
       "5              0           3                    1   \n",
       "6              0           2                    0   \n",
       "7              1           1                    0   \n",
       "8              1           2                    0   \n",
       "9              0           4                    1   \n",
       "10             0           1                    1   \n",
       "11             0           2                    1   \n",
       "\n",
       "    average_week3_priority_score  term_code_1244  \n",
       "0                       0.420164               1  \n",
       "1                       0.479619               1  \n",
       "2                       0.806987               1  \n",
       "3                       0.757513               1  \n",
       "4                       0.765596               1  \n",
       "5                       0.784647               1  \n",
       "6                       0.543877               1  \n",
       "7                       0.599533               1  \n",
       "8                       0.583517               1  \n",
       "9                       0.427771               1  \n",
       "10                      0.683473               1  \n",
       "11                      0.757509               1  "
      ]
     },
     "execution_count": 8,
     "metadata": {},
     "output_type": "execute_result"
    }
   ],
   "source": [
    "odyssey_statictical_control_cs_encoded"
   ]
  },
  {
   "cell_type": "code",
   "execution_count": 9,
   "metadata": {},
   "outputs": [
    {
     "name": "stdout",
     "output_type": "stream",
     "text": [
      "<class 'pandas.core.frame.DataFrame'>\n",
      "RangeIndex: 12 entries, 0 to 11\n",
      "Data columns (total 5 columns):\n",
      " #   Column                        Non-Null Count  Dtype  \n",
      "---  ------                        --------------  -----  \n",
      " 0   odyssey_flag                  12 non-null     Int64  \n",
      " 1   aic_clscnt                    12 non-null     Int64  \n",
      " 2   credit_earned_count           12 non-null     Int64  \n",
      " 3   average_week3_priority_score  12 non-null     float64\n",
      " 4   term_code_1244                12 non-null     int32  \n",
      "dtypes: Int64(3), float64(1), int32(1)\n",
      "memory usage: 596.0 bytes\n"
     ]
    }
   ],
   "source": [
    "odyssey_statictical_control_cs_encoded.info()"
   ]
  },
  {
   "cell_type": "code",
   "execution_count": 10,
   "metadata": {},
   "outputs": [],
   "source": [
    "import numpy as np"
   ]
  },
  {
   "cell_type": "code",
   "execution_count": 11,
   "metadata": {},
   "outputs": [],
   "source": [
    "odyssey_statictical_control_cs_encoded['credit_earned_count'] = odyssey_statictical_control_cs_encoded['credit_earned_count'].astype(np.float64)"
   ]
  },
  {
   "cell_type": "code",
   "execution_count": 13,
   "metadata": {},
   "outputs": [],
   "source": [
    "import statsmodels.api as sm\n",
    "from sklearn.preprocessing import StandardScaler"
   ]
  },
  {
   "cell_type": "code",
   "execution_count": 14,
   "metadata": {},
   "outputs": [],
   "source": [
    "X= odyssey_statictical_control_cs_encoded[['odyssey_flag', 'aic_clscnt', 'average_week3_priority_score']]\n",
    "scaler=StandardScaler()\n",
    "X_scaled = scaler.fit_transform(X)\n",
    "X_scaled=sm.add_constant(X_scaled)\n",
    "y = odyssey_statictical_control_cs_encoded['credit_earned_count']"
   ]
  },
  {
   "cell_type": "code",
   "execution_count": 15,
   "metadata": {},
   "outputs": [
    {
     "name": "stdout",
     "output_type": "stream",
     "text": [
      "Warning: Maximum number of iterations has been exceeded.\n",
      "         Current function value: 0.000000\n",
      "         Iterations: 35\n"
     ]
    },
    {
     "name": "stderr",
     "output_type": "stream",
     "text": [
      "c:\\Users\\Rohan.Azad\\AppData\\Local\\Programs\\Python\\Python39\\lib\\site-packages\\statsmodels\\discrete\\discrete_model.py:227: PerfectSeparationWarning: Perfect separation or prediction detected, parameter may not be identified\n",
      "  warnings.warn(msg, category=PerfectSeparationWarning)\n",
      "c:\\Users\\Rohan.Azad\\AppData\\Local\\Programs\\Python\\Python39\\lib\\site-packages\\statsmodels\\base\\model.py:607: ConvergenceWarning: Maximum Likelihood optimization failed to converge. Check mle_retvals\n",
      "  warnings.warn(\"Maximum Likelihood optimization failed to \"\n"
     ]
    }
   ],
   "source": [
    "model = sm.Logit(y, X_scaled).fit()"
   ]
  },
  {
   "cell_type": "code",
   "execution_count": 16,
   "metadata": {},
   "outputs": [
    {
     "name": "stdout",
     "output_type": "stream",
     "text": [
      "                            Logit Regression Results                           \n",
      "===============================================================================\n",
      "Dep. Variable:     credit_earned_count   No. Observations:                   12\n",
      "Model:                           Logit   Df Residuals:                        8\n",
      "Method:                            MLE   Df Model:                            3\n",
      "Date:                 Tue, 16 Jul 2024   Pseudo R-squ.:                   1.000\n",
      "Time:                         14:20:40   Log-Likelihood:            -3.0476e-07\n",
      "converged:                       False   LL-Null:                       -8.1503\n",
      "Covariance Type:             nonrobust   LLR p-value:                 0.0009839\n",
      "==============================================================================\n",
      "                 coef    std err          z      P>|z|      [0.025      0.975]\n",
      "------------------------------------------------------------------------------\n",
      "const         33.8222   1.48e+06   2.29e-05      1.000    -2.9e+06     2.9e+06\n",
      "x1           -28.6087   1.75e+06  -1.64e-05      1.000   -3.43e+06    3.43e+06\n",
      "x2            77.6879   8849.250      0.009      0.993   -1.73e+04    1.74e+04\n",
      "x3           132.0283   1.51e+04      0.009      0.993   -2.95e+04    2.98e+04\n",
      "==============================================================================\n",
      "\n",
      "Complete Separation: The results show that there iscomplete separation or perfect prediction.\n",
      "In this case the Maximum Likelihood Estimator does not exist and the parameters\n",
      "are not identified.\n"
     ]
    }
   ],
   "source": [
    "print(model.summary())"
   ]
  },
  {
   "cell_type": "markdown",
   "metadata": {},
   "source": [
    "## `Conclusion`"
   ]
  },
  {
   "cell_type": "markdown",
   "metadata": {},
   "source": [
    "The model indicates a perfect fit indicated by Pseudo R-squared as 1. \n",
    "The coefficients and their standard errors are extremely large which indicates instability in the estimates. \n",
    "The p-value being higher than 0.05 for each variable indicates that it is not statistically significant. \n",
    "\n",
    "The fact that odyssey_flag has negative coefficient indicates the new-learning platform Odyssey is resulting in lower pass rate. We had done a separate A/B tetsing with test and control group which had also showed that the pass rate for the test group was lower compared to control group."
   ]
  }
 ],
 "metadata": {
  "kernelspec": {
   "display_name": "Python 3",
   "language": "python",
   "name": "python3"
  },
  "language_info": {
   "codemirror_mode": {
    "name": "ipython",
    "version": 3
   },
   "file_extension": ".py",
   "mimetype": "text/x-python",
   "name": "python",
   "nbconvert_exporter": "python",
   "pygments_lexer": "ipython3",
   "version": "3.9.13"
  }
 },
 "nbformat": 4,
 "nbformat_minor": 2
}
